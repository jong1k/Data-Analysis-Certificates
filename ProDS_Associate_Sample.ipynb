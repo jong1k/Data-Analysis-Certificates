{
 "cells": [
  {
   "cell_type": "markdown",
   "id": "5728d952",
   "metadata": {},
   "source": [
    "# ProDS Associate (입문) 샘플문항 풀이\n",
    "- 문제 출처 https://certi.multicampus.com/ie/intro/sampleTest?p_menu=MTMxMDkjTUFJTg==&p_gubun=Qw=="
   ]
  },
  {
   "cell_type": "markdown",
   "id": "8568fb20",
   "metadata": {},
   "source": [
    "- 글로벌 유통 회사에서 매출액을 증대시킬 수 있는 마케팅 방법을 찾기 위하여, 채널별 반응과 매출금액과의 관계를 분석하고자 한다."
   ]
  },
  {
   "cell_type": "code",
   "execution_count": 1,
   "id": "34ba7466",
   "metadata": {},
   "outputs": [],
   "source": [
    "import numpy as np\n",
    "import pandas as pd"
   ]
  },
  {
   "cell_type": "markdown",
   "id": "fd0b4d19",
   "metadata": {},
   "source": [
    "## 데이터 로드 및 확인"
   ]
  },
  {
   "cell_type": "code",
   "execution_count": 2,
   "id": "a9bda2ac",
   "metadata": {},
   "outputs": [
    {
     "data": {
      "text/html": [
       "<div>\n",
       "<style scoped>\n",
       "    .dataframe tbody tr th:only-of-type {\n",
       "        vertical-align: middle;\n",
       "    }\n",
       "\n",
       "    .dataframe tbody tr th {\n",
       "        vertical-align: top;\n",
       "    }\n",
       "\n",
       "    .dataframe thead th {\n",
       "        text-align: right;\n",
       "    }\n",
       "</style>\n",
       "<table border=\"1\" class=\"dataframe\">\n",
       "  <thead>\n",
       "    <tr style=\"text-align: right;\">\n",
       "      <th></th>\n",
       "      <th>YEAR_MONTH</th>\n",
       "      <th>SOCIAL</th>\n",
       "      <th>TV</th>\n",
       "      <th>NEWSPAPER</th>\n",
       "      <th>SALES_AMT</th>\n",
       "    </tr>\n",
       "  </thead>\n",
       "  <tbody>\n",
       "    <tr>\n",
       "      <th>0</th>\n",
       "      <td>2005-Dec</td>\n",
       "      <td>84.72</td>\n",
       "      <td>19.20</td>\n",
       "      <td>48.96</td>\n",
       "      <td>14.28</td>\n",
       "    </tr>\n",
       "    <tr>\n",
       "      <th>1</th>\n",
       "      <td>2006-Jan</td>\n",
       "      <td>351.48</td>\n",
       "      <td>33.96</td>\n",
       "      <td>51.84</td>\n",
       "      <td>11.52</td>\n",
       "    </tr>\n",
       "    <tr>\n",
       "      <th>2</th>\n",
       "      <td>2006-Feb</td>\n",
       "      <td>135.48</td>\n",
       "      <td>20.88</td>\n",
       "      <td>46.32</td>\n",
       "      <td>20.88</td>\n",
       "    </tr>\n",
       "    <tr>\n",
       "      <th>3</th>\n",
       "      <td>2006-Mar</td>\n",
       "      <td>116.64</td>\n",
       "      <td>1.80</td>\n",
       "      <td>36.00</td>\n",
       "      <td>11.40</td>\n",
       "    </tr>\n",
       "    <tr>\n",
       "      <th>4</th>\n",
       "      <td>2006-Apr</td>\n",
       "      <td>318.72</td>\n",
       "      <td>24.00</td>\n",
       "      <td>0.36</td>\n",
       "      <td>15.36</td>\n",
       "    </tr>\n",
       "    <tr>\n",
       "      <th>...</th>\n",
       "      <td>...</td>\n",
       "      <td>...</td>\n",
       "      <td>...</td>\n",
       "      <td>...</td>\n",
       "      <td>...</td>\n",
       "    </tr>\n",
       "    <tr>\n",
       "      <th>164</th>\n",
       "      <td>2019-Aug</td>\n",
       "      <td>200.16</td>\n",
       "      <td>50.40</td>\n",
       "      <td>4.32</td>\n",
       "      <td>9.12</td>\n",
       "    </tr>\n",
       "    <tr>\n",
       "      <th>165</th>\n",
       "      <td>2019-Sep</td>\n",
       "      <td>179.64</td>\n",
       "      <td>42.72</td>\n",
       "      <td>7.20</td>\n",
       "      <td>11.64</td>\n",
       "    </tr>\n",
       "    <tr>\n",
       "      <th>166</th>\n",
       "      <td>2019-Oct</td>\n",
       "      <td>45.84</td>\n",
       "      <td>4.44</td>\n",
       "      <td>16.56</td>\n",
       "      <td>15.36</td>\n",
       "    </tr>\n",
       "    <tr>\n",
       "      <th>167</th>\n",
       "      <td>2019-Nov</td>\n",
       "      <td>113.04</td>\n",
       "      <td>5.88</td>\n",
       "      <td>9.72</td>\n",
       "      <td>30.60</td>\n",
       "    </tr>\n",
       "    <tr>\n",
       "      <th>168</th>\n",
       "      <td>2019-Dec</td>\n",
       "      <td>212.40</td>\n",
       "      <td>11.16</td>\n",
       "      <td>7.68</td>\n",
       "      <td>16.08</td>\n",
       "    </tr>\n",
       "  </tbody>\n",
       "</table>\n",
       "<p>169 rows × 5 columns</p>\n",
       "</div>"
      ],
      "text/plain": [
       "    YEAR_MONTH  SOCIAL     TV  NEWSPAPER  SALES_AMT\n",
       "0     2005-Dec   84.72  19.20      48.96      14.28\n",
       "1     2006-Jan  351.48  33.96      51.84      11.52\n",
       "2     2006-Feb  135.48  20.88      46.32      20.88\n",
       "3     2006-Mar  116.64   1.80      36.00      11.40\n",
       "4     2006-Apr  318.72  24.00       0.36      15.36\n",
       "..         ...     ...    ...        ...        ...\n",
       "164   2019-Aug  200.16  50.40       4.32       9.12\n",
       "165   2019-Sep  179.64  42.72       7.20      11.64\n",
       "166   2019-Oct   45.84   4.44      16.56      15.36\n",
       "167   2019-Nov  113.04   5.88       9.72      30.60\n",
       "168   2019-Dec  212.40  11.16       7.68      16.08\n",
       "\n",
       "[169 rows x 5 columns]"
      ]
     },
     "execution_count": 2,
     "metadata": {},
     "output_type": "execute_result"
    }
   ],
   "source": [
    "df = pd.read_csv(\"01_ADS_sample_1.csv\")\n",
    "df"
   ]
  },
  {
   "cell_type": "code",
   "execution_count": 3,
   "id": "17d173e3",
   "metadata": {},
   "outputs": [
    {
     "name": "stdout",
     "output_type": "stream",
     "text": [
      "<class 'pandas.core.frame.DataFrame'>\n",
      "RangeIndex: 169 entries, 0 to 168\n",
      "Data columns (total 5 columns):\n",
      " #   Column      Non-Null Count  Dtype  \n",
      "---  ------      --------------  -----  \n",
      " 0   YEAR_MONTH  169 non-null    object \n",
      " 1   SOCIAL      169 non-null    float64\n",
      " 2   TV          169 non-null    float64\n",
      " 3   NEWSPAPER   169 non-null    float64\n",
      " 4   SALES_AMT   169 non-null    float64\n",
      "dtypes: float64(4), object(1)\n",
      "memory usage: 6.7+ KB\n"
     ]
    }
   ],
   "source": [
    "df.info()"
   ]
  },
  {
   "cell_type": "code",
   "execution_count": 4,
   "id": "964dfc7c",
   "metadata": {},
   "outputs": [
    {
     "data": {
      "text/html": [
       "<div>\n",
       "<style scoped>\n",
       "    .dataframe tbody tr th:only-of-type {\n",
       "        vertical-align: middle;\n",
       "    }\n",
       "\n",
       "    .dataframe tbody tr th {\n",
       "        vertical-align: top;\n",
       "    }\n",
       "\n",
       "    .dataframe thead th {\n",
       "        text-align: right;\n",
       "    }\n",
       "</style>\n",
       "<table border=\"1\" class=\"dataframe\">\n",
       "  <thead>\n",
       "    <tr style=\"text-align: right;\">\n",
       "      <th></th>\n",
       "      <th>SOCIAL</th>\n",
       "      <th>TV</th>\n",
       "      <th>NEWSPAPER</th>\n",
       "      <th>SALES_AMT</th>\n",
       "    </tr>\n",
       "  </thead>\n",
       "  <tbody>\n",
       "    <tr>\n",
       "      <th>count</th>\n",
       "      <td>169.000000</td>\n",
       "      <td>169.000000</td>\n",
       "      <td>169.000000</td>\n",
       "      <td>169.000000</td>\n",
       "    </tr>\n",
       "    <tr>\n",
       "      <th>mean</th>\n",
       "      <td>176.466036</td>\n",
       "      <td>27.639763</td>\n",
       "      <td>35.125207</td>\n",
       "      <td>16.896568</td>\n",
       "    </tr>\n",
       "    <tr>\n",
       "      <th>std</th>\n",
       "      <td>101.987883</td>\n",
       "      <td>17.884260</td>\n",
       "      <td>24.743385</td>\n",
       "      <td>6.307183</td>\n",
       "    </tr>\n",
       "    <tr>\n",
       "      <th>min</th>\n",
       "      <td>0.840000</td>\n",
       "      <td>0.000000</td>\n",
       "      <td>0.360000</td>\n",
       "      <td>1.920000</td>\n",
       "    </tr>\n",
       "    <tr>\n",
       "      <th>25%</th>\n",
       "      <td>90.600000</td>\n",
       "      <td>11.880000</td>\n",
       "      <td>14.280000</td>\n",
       "      <td>12.480000</td>\n",
       "    </tr>\n",
       "    <tr>\n",
       "      <th>50%</th>\n",
       "      <td>179.640000</td>\n",
       "      <td>26.760000</td>\n",
       "      <td>31.080000</td>\n",
       "      <td>15.480000</td>\n",
       "    </tr>\n",
       "    <tr>\n",
       "      <th>75%</th>\n",
       "      <td>261.240000</td>\n",
       "      <td>43.560000</td>\n",
       "      <td>50.160000</td>\n",
       "      <td>20.760000</td>\n",
       "    </tr>\n",
       "    <tr>\n",
       "      <th>max</th>\n",
       "      <td>355.680000</td>\n",
       "      <td>59.520000</td>\n",
       "      <td>121.080000</td>\n",
       "      <td>32.400000</td>\n",
       "    </tr>\n",
       "  </tbody>\n",
       "</table>\n",
       "</div>"
      ],
      "text/plain": [
       "           SOCIAL          TV   NEWSPAPER   SALES_AMT\n",
       "count  169.000000  169.000000  169.000000  169.000000\n",
       "mean   176.466036   27.639763   35.125207   16.896568\n",
       "std    101.987883   17.884260   24.743385    6.307183\n",
       "min      0.840000    0.000000    0.360000    1.920000\n",
       "25%     90.600000   11.880000   14.280000   12.480000\n",
       "50%    179.640000   26.760000   31.080000   15.480000\n",
       "75%    261.240000   43.560000   50.160000   20.760000\n",
       "max    355.680000   59.520000  121.080000   32.400000"
      ]
     },
     "execution_count": 4,
     "metadata": {},
     "output_type": "execute_result"
    }
   ],
   "source": [
    "df.describe()"
   ]
  },
  {
   "cell_type": "markdown",
   "id": "444fef8b",
   "metadata": {},
   "source": [
    "## 1. 상관분석"
   ]
  },
  {
   "cell_type": "markdown",
   "id": "14996436",
   "metadata": {},
   "source": [
    "- (ADS_sample_1.csv를 활용하여) 년월(YEAR_MONTH) 변수를 제외한 변수들에 대해 상관분석을 수행하고자 한다. 매출금액(SALES_AMT)과 상관 정도가 가장 강한(상관계수 절대값이 가장 큰) 변수를 찾고 해당 변수와 매출금액(SALES_AMT)과의 상관계수 값을 기술하시오. (배점 5점)"
   ]
  },
  {
   "cell_type": "markdown",
   "id": "6e735f3b",
   "metadata": {},
   "source": [
    "- ※ 참고사항\n",
    "    - 피어슨(Pearson) 상관계수 값을 구하시오\n",
    "    - 상관계수는 절대값을 취하지 않은 상관계수 값 그대로, 소수점 넷째 자리에서 반올림하여 셋째 자리까지 기술하시오. (답안예시 : 0.123)"
   ]
  },
  {
   "cell_type": "code",
   "execution_count": 5,
   "id": "87789aa4",
   "metadata": {},
   "outputs": [
    {
     "data": {
      "text/plain": [
       "SOCIAL       0.037020\n",
       "TV          -0.183192\n",
       "NEWSPAPER    0.002282\n",
       "SALES_AMT    1.000000\n",
       "Name: SALES_AMT, dtype: float64"
      ]
     },
     "execution_count": 5,
     "metadata": {},
     "output_type": "execute_result"
    }
   ],
   "source": [
    "cor = df.drop(\"YEAR_MONTH\", axis=1).corr()[\"SALES_AMT\"]\n",
    "cor"
   ]
  },
  {
   "cell_type": "code",
   "execution_count": 6,
   "id": "76270d7f",
   "metadata": {},
   "outputs": [
    {
     "data": {
      "text/plain": [
       "-0.183"
      ]
     },
     "execution_count": 6,
     "metadata": {},
     "output_type": "execute_result"
    }
   ],
   "source": [
    "ans1 = cor[\"TV\"]\n",
    "round(ans1, 3)"
   ]
  },
  {
   "cell_type": "markdown",
   "id": "962f39b7",
   "metadata": {},
   "source": [
    "## 2. 증감률 계산"
   ]
  },
  {
   "cell_type": "markdown",
   "id": "5120be4e",
   "metadata": {},
   "source": [
    "- (ADS_sample_1.csv를 활용하여) 2009년 매출금액(SALES_AMT) 대비 2019년 매출금액(SALES_AMT)의 변화 정도를 확인하고자 한다. 다음 수식을 이용하여 증감률(%)을 기술하시오. (배점 : 10점)"
   ]
  },
  {
   "attachments": {
    "image.png": {
     "image/png": "[encoded data removed]"
    }
   },
   "cell_type": "markdown",
   "id": "b36fb230",
   "metadata": {},
   "source": [
    "![image.png](attachment:image.png)"
   ]
  },
  {
   "cell_type": "markdown",
   "id": "ad38c104",
   "metadata": {},
   "source": [
    "- ※ 참고사항\n",
    "    - 연도는 년월(YEAR_MONTH) 변수로부터 추출하며, 연도별 매출금액합계는 1월부터 12월까지의 매출 총액을 의미한다.\n",
    "    - 증감률(%)은 소수점 넷째 자리에서 반올림하여 셋째 자리까지 기술하시오. (답안예시 : 1.234)"
   ]
  },
  {
   "cell_type": "code",
   "execution_count": 7,
   "id": "7f1d6352",
   "metadata": {},
   "outputs": [],
   "source": [
    "sales_2009 = df.loc[df[\"YEAR_MONTH\"].str.startswith(\"2009\"), \"SALES_AMT\"]\n",
    "sales_2019 = df.loc[df[\"YEAR_MONTH\"].str.startswith(\"2019\"), \"SALES_AMT\"]"
   ]
  },
  {
   "cell_type": "code",
   "execution_count": 8,
   "id": "b9027c69",
   "metadata": {},
   "outputs": [
    {
     "data": {
      "text/plain": [
       "0.194"
      ]
     },
     "execution_count": 8,
     "metadata": {},
     "output_type": "execute_result"
    }
   ],
   "source": [
    "sales_2009_sum = sales_2009.sum()\n",
    "sales_2019_sum = sales_2019.sum()\n",
    "ans2 = (sales_2019_sum - sales_2009_sum) / sales_2009_sum * 100\n",
    "round(ans2, 3)"
   ]
  },
  {
   "cell_type": "markdown",
   "id": "b1cba396",
   "metadata": {},
   "source": [
    "## 3. 통계분석"
   ]
  },
  {
   "cell_type": "markdown",
   "id": "cf664cfd",
   "metadata": {},
   "source": [
    "- (ADS_sample_1.csv를 활용하여) 2009년과 2019년의 매출금액(SALES_AMT) 평균이 통계적으로 유의한 차이가 있는지 검정하고자 한다. 적절한 검정 수행 후, 유의 확률(P-value)의 값을 기술하시오.\n",
    "- 단, 검정 시 세운 대립 가설(H₁)은 다음과 같다.\n",
    "    - 대립 가설(H₁): 2009년과 2019년의 매출금액의 평균이 같지 않다"
   ]
  },
  {
   "cell_type": "markdown",
   "id": "c64237f9",
   "metadata": {},
   "source": [
    "- ※ 참고사항\n",
    "    - 등분산 가정 하에서 검정을 수행한다.\n",
    "    - 2009년 매출금액(SALES_AMT) 12건과 2019년 매출금액(SALES_AMT) 12건에 대한 평균 검정으로, 해당 검정의 검정통계량은 자유도가 22인 t 분포를 따른다\n",
    "    - 유의 확률(P-value)값은 소수점 넷째 자리에서 반올림하여 셋째 자리까지 기술하시오. (답안예시 : 0.123)"
   ]
  },
  {
   "cell_type": "code",
   "execution_count": 9,
   "id": "c62086ea",
   "metadata": {},
   "outputs": [],
   "source": [
    "from scipy import stats"
   ]
  },
  {
   "cell_type": "code",
   "execution_count": 10,
   "id": "e75aa387",
   "metadata": {},
   "outputs": [
    {
     "data": {
      "text/plain": [
       "Ttest_indResult(statistic=-0.011021647568416792, pvalue=0.9913055138582367)"
      ]
     },
     "execution_count": 10,
     "metadata": {},
     "output_type": "execute_result"
    }
   ],
   "source": [
    "ttest = stats.ttest_ind(sales_2009, sales_2019)\n",
    "ttest"
   ]
  },
  {
   "cell_type": "code",
   "execution_count": 11,
   "id": "38648e32",
   "metadata": {},
   "outputs": [
    {
     "data": {
      "text/plain": [
       "0.991"
      ]
     },
     "execution_count": 11,
     "metadata": {},
     "output_type": "execute_result"
    }
   ],
   "source": [
    "ans3 = ttest.pvalue\n",
    "round(ans3, 3)"
   ]
  }
 ],
 "metadata": {
  "kernelspec": {
   "display_name": "Python 3 (ipykernel)",
   "language": "python",
   "name": "python3"
  },
  "language_info": {
   "codemirror_mode": {
    "name": "ipython",
    "version": 3
   },
   "file_extension": ".py",
   "mimetype": "text/x-python",
   "name": "python",
   "nbconvert_exporter": "python",
   "pygments_lexer": "ipython3",
   "version": "3.8.12"
  }
 },
 "nbformat": 4,
 "nbformat_minor": 5
}
